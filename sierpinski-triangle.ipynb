{
 "cells": [
  {
   "cell_type": "markdown",
   "id": "6b6a94e4-831e-4a14-bbcf-f35dacba3ba8",
   "metadata": {},
   "source": [
    "# Sierpinski's Triangle"
   ]
  },
  {
   "cell_type": "markdown",
   "id": "87bbe504-af15-4a28-92f4-8d293df87bf5",
   "metadata": {},
   "source": [
    "Inspirend by the following video on [Reddit](https://www.reddit.com/r/interestingasfuck/comments/zeb4ol/how_sierpinskis_triangle_a_famous_fractal/) I came up with a solution on how to visualize Sierpinski's Triangle with Python and Matplotlib"
   ]
  },
  {
   "cell_type": "code",
   "execution_count": 255,
   "id": "f2b4e8bf-e19d-4c1c-909d-66a54e621b69",
   "metadata": {},
   "outputs": [],
   "source": [
    "import matplotlib.pyplot as plt\n",
    "import numpy as np\n",
    "import random\n",
    "from itertools import chain\n",
    "import IPython\n",
    "\n",
    "%matplotlib inline"
   ]
  },
  {
   "cell_type": "code",
   "execution_count": 256,
   "id": "30b7d1d7-7339-4157-b0ed-c013fbcc9f82",
   "metadata": {},
   "outputs": [
    {
     "data": {
      "text/html": [
       "\n",
       "        <iframe\n",
       "            width=\"638\"\n",
       "            height=\"640\"\n",
       "            src=\"https://www.redditmedia.com/r/interestingasfuck/comments/zeb4ol/how_sierpinskis_triangle_a_famous_fractal/?ref_source=embed&amp;ref=share&amp;embed=true\"\n",
       "            frameborder=\"0\"\n",
       "            allowfullscreen\n",
       "            \n",
       "        ></iframe>\n",
       "        "
      ],
      "text/plain": [
       "<IPython.lib.display.IFrame at 0x115479820>"
      ]
     },
     "execution_count": 256,
     "metadata": {},
     "output_type": "execute_result"
    }
   ],
   "source": [
    "src=\"https://www.redditmedia.com/r/interestingasfuck/comments/zeb4ol/how_sierpinskis_triangle_a_famous_fractal/?ref_source=embed&amp;ref=share&amp;embed=true\"\n",
    "IPython.display.IFrame(src, width=638,height=640)"
   ]
  },
  {
   "cell_type": "markdown",
   "id": "316bd798-f116-44a5-9e8f-5ab15818fb45",
   "metadata": {},
   "source": [
    "## Parameter"
   ]
  },
  {
   "cell_type": "code",
   "execution_count": 257,
   "id": "44bc701c-0c60-47c5-b23a-78077b8098da",
   "metadata": {},
   "outputs": [],
   "source": [
    "_max = 100.0\n",
    "\n",
    "limits = [[(0.0,0.0)],\n",
    "          [((_max/2),_max)],\n",
    "          [(_max,0.0)]]"
   ]
  },
  {
   "cell_type": "code",
   "execution_count": 258,
   "id": "64baea38-c916-4ae1-a718-f446522b8901",
   "metadata": {},
   "outputs": [],
   "source": [
    "n_shots = 100000"
   ]
  },
  {
   "cell_type": "markdown",
   "id": "2438ecc5-d3e1-4cae-bfad-eb4dd99db25b",
   "metadata": {},
   "source": [
    "## Create Initial Point within the triangle"
   ]
  },
  {
   "cell_type": "code",
   "execution_count": 259,
   "id": "e07342aa-52ef-4be2-9c88-c53241253c44",
   "metadata": {},
   "outputs": [
    {
     "data": {
      "text/plain": [
       "(66.44321567111632, 20.030798111257763)"
      ]
     },
     "execution_count": 259,
     "metadata": {},
     "output_type": "execute_result"
    }
   ],
   "source": [
    "def point_on_triangle(pt1, pt2, pt3):\n",
    "    '''\n",
    "    Create a random point within a triangle\n",
    "    '''    \n",
    "    x, y = sorted([random.random(), random.random()])\n",
    "    \n",
    "    s, t, u = x, y - x, 1 - y\n",
    "    \n",
    "    return (s * pt1[0][0] + t * pt2[0][0] + u * pt3[0][0],\n",
    "            s * pt1[0][1] + t * pt2[0][1] + u * pt3[0][1])\n",
    "\n",
    "init = point_on_triangle(limits[0],limits[1],limits[2])\n",
    "init"
   ]
  },
  {
   "cell_type": "markdown",
   "id": "cb51f941-d8ba-4cce-bd75-99bdda3eddd4",
   "metadata": {},
   "source": [
    "## Create Points"
   ]
  },
  {
   "cell_type": "code",
   "execution_count": 260,
   "id": "b723d689-0f8c-4c15-838a-8ac8e1e07823",
   "metadata": {},
   "outputs": [],
   "source": [
    "def new_point(start):\n",
    "    '''\n",
    "    Create new data point by inserting existing point\n",
    "    '''    \n",
    "    goal=random.choice(limits)\n",
    "    \n",
    "    _x = goal[0][0]-start[0]\n",
    "    _y = goal[0][1]-start[1]\n",
    "    \n",
    "    _x2 = start[0]+_x/2.0\n",
    "    _y2 = start[1]+_y/2.0\n",
    "    \n",
    "    new_point = [(_x2, _y2)]\n",
    "    \n",
    "    return new_point"
   ]
  },
  {
   "cell_type": "code",
   "execution_count": 261,
   "id": "58a726b3-117a-4715-b96a-ac957ad296bf",
   "metadata": {},
   "outputs": [],
   "source": [
    "points = []\n",
    "\n",
    "for i in range(n_shots):\n",
    "    if i == 0:\n",
    "        start = new_point(init)\n",
    "        points.append(start)\n",
    "    else:\n",
    "        np = new_point(start[0])\n",
    "        points.append(np)\n",
    "        start = np"
   ]
  },
  {
   "cell_type": "markdown",
   "id": "a4200314-bb01-448f-a151-0fd4c86778ec",
   "metadata": {},
   "source": [
    "## Split Points for X and Y"
   ]
  },
  {
   "cell_type": "code",
   "execution_count": 262,
   "id": "afc1f121-23bc-4c90-963e-b28465feec89",
   "metadata": {},
   "outputs": [],
   "source": [
    "all_points = list(chain(*points))\n",
    "\n",
    "y = [i[0] for i in all_points]\n",
    "x = [i[1] for i in all_points]"
   ]
  },
  {
   "cell_type": "markdown",
   "id": "c48fa3c9-c9c7-4438-b3d1-9170c66dd7fc",
   "metadata": {},
   "source": [
    "## Plot Points"
   ]
  },
  {
   "cell_type": "code",
   "execution_count": 263,
   "id": "14a2e277-ca13-45bd-ac59-3638eeb7603c",
   "metadata": {},
   "outputs": [
    {
     "data": {
      "image/png": "[encoded data removed]",
      "text/plain": [
       "<Figure size 640x480 with 1 Axes>"
      ]
     },
     "metadata": {},
     "output_type": "display_data"
    }
   ],
   "source": [
    "fig = plt.figure()\n",
    "\n",
    "ax = fig.add_subplot()\n",
    "\n",
    "ax.set_ylim([0, _max])\n",
    "ax.set_xlim([0, _max])\n",
    "\n",
    "ax.set_aspect('equal')\n",
    "ax.set_title(\"Sierpinski's Triangle\", fontsize=10)\n",
    "ax.axis('off')\n",
    "\n",
    "# plotting points as a scatter plot\n",
    "plt.scatter(x, y,\n",
    "            color= \"black\",\n",
    "            s=1)\n",
    "\n",
    "# function to show the plot\n",
    "plt.show()"
   ]
  },
  {
   "cell_type": "markdown",
   "id": "ccc91f71-6e97-4750-83a9-87aa2d9f378a",
   "metadata": {},
   "source": [
    "Kevin Kuhn, [Gopf.ai](https://gopf.ai/) – Dec. 2022"
   ]
  }
 ],
 "metadata": {
  "kernelspec": {
   "display_name": "Python 3 (ipykernel)",
   "language": "python",
   "name": "python3"
  },
  "language_info": {
   "codemirror_mode": {
    "name": "ipython",
    "version": 3
   },
   "file_extension": ".py",
   "mimetype": "text/x-python",
   "name": "python",
   "nbconvert_exporter": "python",
   "pygments_lexer": "ipython3",
   "version": "3.9.15"
  }
 },
 "nbformat": 4,
 "nbformat_minor": 5
}
